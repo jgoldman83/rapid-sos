{
 "cells": [
  {
   "cell_type": "code",
   "execution_count": 1,
   "metadata": {},
   "outputs": [],
   "source": [
    "#!pip3 install psycopg2-binary\n",
    "#!pip3 install python-dotenv\n",
    "#!pip3 install pandas\n",
    "#!pip3 install matplotlib\n",
    "#!pip3 install ipympl\n",
    "#!pip3 install keplergl geopandas\n",
    "#!pip3 install ipywidgets\n",
    "#!pip3 install widgetsnbextension\n",
    "#!pip3 install folium\n",
    "#!pip3 install  ipyvolume"
   ]
  },
  {
   "cell_type": "code",
   "execution_count": 2,
   "metadata": {},
   "outputs": [
    {
     "name": "stdout",
     "output_type": "stream",
     "text": [
      "Enabling notebook extension keplergl-jupyter/extension...\n",
      "      - Validating: \u001b[32mOK\u001b[0m\n",
      "Enabling notebook extension jupyter-js-widgets/extension...\n",
      "      - Validating: \u001b[32mOK\u001b[0m\n"
     ]
    }
   ],
   "source": [
    "!jupyter nbextension enable --py keplergl\n",
    "!jupyter nbextension enable --py widgetsnbextension\n",
    "#!jupyter labextension install jupyter-matplotlib@0.3.0 --minimize=false --debug\n",
    "#!jupyter labextension install jupyter-plotly --minimize=false --debug"
   ]
  },
  {
   "cell_type": "code",
   "execution_count": 3,
   "metadata": {},
   "outputs": [
    {
     "name": "stdout",
     "output_type": "stream",
     "text": [
      "JupyterLab v3.0.3\r\n",
      "/home/shorsh/.local/share/jupyter/labextensions\r\n",
      "        jupyterlab-datawidgets v7.0.0 \u001b[32menabled\u001b[0m \u001b[32mOK\u001b[0m\r\n",
      "        jupyter-matplotlib v0.8.2 \u001b[32menabled\u001b[0m \u001b[32mOK\u001b[0m\r\n",
      "        @jupyter-widgets/jupyterlab-manager v3.0.0 \u001b[32menabled\u001b[0m \u001b[32mOK\u001b[0m (python, jupyterlab_widgets)\r\n",
      "\r\n",
      "Other labextensions (built into JupyterLab)\r\n",
      "   app dir: /home/shorsh/.local/share/jupyter/lab\r\n",
      "        jupyter-threejs v2.2.0 \u001b[32menabled\u001b[0m \u001b[32mOK\u001b[0m\r\n",
      "\r\n",
      "\r\n",
      "Build recommended, please run `jupyter lab build`:\r\n",
      "    jupyter-threejs needs to be included in build\r\n"
     ]
    }
   ],
   "source": [
    "!jupyter labextension list"
   ]
  },
  {
   "cell_type": "code",
   "execution_count": 4,
   "metadata": {},
   "outputs": [],
   "source": [
    "%matplotlib inline\n",
    "import matplotlib.pyplot as plt\n",
    "from dotenv import load_dotenv\n",
    "import os\n",
    "import psycopg2\n",
    "import yaml\n",
    "import pandas as pd\n",
    "import pandas.io.sql as sqlio\n",
    "import ipyvolume as ipv\n",
    "import ipyvolume.pylab as p3\n",
    "import numpy as np\n",
    "import ipywidgets\n",
    "import folium\n",
    "from keplergl import KeplerGl \n"
   ]
  },
  {
   "cell_type": "code",
   "execution_count": 5,
   "metadata": {},
   "outputs": [],
   "source": [
    "with open(os.getcwd()+\"/config.yml\", 'r') as ymlfile:\n",
    "    cfg = yaml.safe_load(ymlfile)"
   ]
  },
  {
   "cell_type": "code",
   "execution_count": 6,
   "metadata": {},
   "outputs": [],
   "source": [
    "PGHOST = cfg['db_creds']['PGHOST']\n",
    "PGDATABASE =  cfg['db_creds']['PGDATABASE']\n",
    "PGUSER =  cfg['db_creds']['PGUSER']\n",
    "PGPASSWORD =  cfg['db_creds']['PGPASSWORD']"
   ]
  },
  {
   "cell_type": "code",
   "execution_count": 7,
   "metadata": {},
   "outputs": [],
   "source": [
    "\n",
    "def connect():\n",
    "    \n",
    "    # Set up a connection to the postgres server.\n",
    "    conn_string = \"host=\"+ PGHOST +\" port=\"+ \"5432\" +\" dbname=\"+ PGDATABASE +\" user=\" + PGUSER \\\n",
    "                  +\" password=\"+ PGPASSWORD\n",
    "    \n",
    "    conn = psycopg2.connect(conn_string)\n",
    "    print(\"Connected!\")\n",
    "\n",
    "    # Create a cursor object\n",
    "    cursor = conn.cursor()\n",
    "    \n",
    "    return conn, cursor"
   ]
  },
  {
   "cell_type": "code",
   "execution_count": 8,
   "metadata": {},
   "outputs": [
    {
     "name": "stdout",
     "output_type": "stream",
     "text": [
      "Connected!\n"
     ]
    }
   ],
   "source": [
    "conn, cursor = connect()"
   ]
  },
  {
   "cell_type": "code",
   "execution_count": 9,
   "metadata": {},
   "outputs": [],
   "source": [
    "sql = \"select * from public.data1_final_mv where ord =1;\"\n",
    "df = sqlio.read_sql_query(sql, conn)"
   ]
  },
  {
   "cell_type": "code",
   "execution_count": 10,
   "metadata": {},
   "outputs": [
    {
     "name": "stdout",
     "output_type": "stream",
     "text": [
      "293336\n"
     ]
    }
   ],
   "source": [
    "print(len(df))"
   ]
  },
  {
   "cell_type": "code",
   "execution_count": 11,
   "metadata": {},
   "outputs": [],
   "source": [
    "cursor.close()\n",
    "conn.close()"
   ]
  },
  {
   "cell_type": "code",
   "execution_count": 12,
   "metadata": {},
   "outputs": [],
   "source": [
    "df.head()\n",
    "df2 = df"
   ]
  },
  {
   "cell_type": "code",
   "execution_count": 13,
   "metadata": {},
   "outputs": [
    {
     "data": {
      "text/html": [
       "<div>\n",
       "<style scoped>\n",
       "    .dataframe tbody tr th:only-of-type {\n",
       "        vertical-align: middle;\n",
       "    }\n",
       "\n",
       "    .dataframe tbody tr th {\n",
       "        vertical-align: top;\n",
       "    }\n",
       "\n",
       "    .dataframe thead th {\n",
       "        text-align: right;\n",
       "    }\n",
       "</style>\n",
       "<table border=\"1\" class=\"dataframe\">\n",
       "  <thead>\n",
       "    <tr style=\"text-align: right;\">\n",
       "      <th></th>\n",
       "      <th>good_id</th>\n",
       "      <th>start_time</th>\n",
       "      <th>call_duration_seconds</th>\n",
       "      <th>first_latitude</th>\n",
       "      <th>first_longitude</th>\n",
       "      <th>last_latitude</th>\n",
       "      <th>last_longitude</th>\n",
       "      <th>ord</th>\n",
       "      <th>start_date_time</th>\n",
       "      <th>hour</th>\n",
       "    </tr>\n",
       "  </thead>\n",
       "  <tbody>\n",
       "    <tr>\n",
       "      <th>0</th>\n",
       "      <td>1659e454818481591803564722</td>\n",
       "      <td>15:39:25</td>\n",
       "      <td>85</td>\n",
       "      <td>42.742</td>\n",
       "      <td>-86.175</td>\n",
       "      <td>42.761</td>\n",
       "      <td>-86.156</td>\n",
       "      <td>1</td>\n",
       "      <td>2020-10-06 15:39:25</td>\n",
       "      <td>15</td>\n",
       "    </tr>\n",
       "    <tr>\n",
       "      <th>1</th>\n",
       "      <td>1659ec256c4231591790390561</td>\n",
       "      <td>11:59:51</td>\n",
       "      <td>26</td>\n",
       "      <td>42.725</td>\n",
       "      <td>-84.458</td>\n",
       "      <td>42.725</td>\n",
       "      <td>-84.458</td>\n",
       "      <td>1</td>\n",
       "      <td>2020-10-06 11:59:51</td>\n",
       "      <td>11</td>\n",
       "    </tr>\n",
       "    <tr>\n",
       "      <th>2</th>\n",
       "      <td>1659ff9ab4c7e1591800663005</td>\n",
       "      <td>14:51:03</td>\n",
       "      <td>28</td>\n",
       "      <td>28.411</td>\n",
       "      <td>-81.339</td>\n",
       "      <td>28.44</td>\n",
       "      <td>-81.338</td>\n",
       "      <td>1</td>\n",
       "      <td>2020-10-06 14:51:03</td>\n",
       "      <td>14</td>\n",
       "    </tr>\n",
       "    <tr>\n",
       "      <th>3</th>\n",
       "      <td>165a6482454921591782843000</td>\n",
       "      <td>09:54:03</td>\n",
       "      <td>51</td>\n",
       "      <td>39.936</td>\n",
       "      <td>-82.884</td>\n",
       "      <td>39.937</td>\n",
       "      <td>-82.884</td>\n",
       "      <td>1</td>\n",
       "      <td>2020-10-06 09:54:03</td>\n",
       "      <td>9</td>\n",
       "    </tr>\n",
       "    <tr>\n",
       "      <th>4</th>\n",
       "      <td>165a7788d6a4f1591782475276</td>\n",
       "      <td>09:47:55</td>\n",
       "      <td>70</td>\n",
       "      <td>36.389</td>\n",
       "      <td>-80.731</td>\n",
       "      <td>36.389</td>\n",
       "      <td>-80.731</td>\n",
       "      <td>1</td>\n",
       "      <td>2020-10-06 09:47:55</td>\n",
       "      <td>9</td>\n",
       "    </tr>\n",
       "  </tbody>\n",
       "</table>\n",
       "</div>"
      ],
      "text/plain": [
       "                      good_id start_time  call_duration_seconds  \\\n",
       "0  1659e454818481591803564722   15:39:25                     85   \n",
       "1  1659ec256c4231591790390561   11:59:51                     26   \n",
       "2  1659ff9ab4c7e1591800663005   14:51:03                     28   \n",
       "3  165a6482454921591782843000   09:54:03                     51   \n",
       "4  165a7788d6a4f1591782475276   09:47:55                     70   \n",
       "\n",
       "  first_latitude first_longitude last_latitude last_longitude  ord  \\\n",
       "0         42.742         -86.175        42.761        -86.156    1   \n",
       "1         42.725         -84.458        42.725        -84.458    1   \n",
       "2         28.411         -81.339         28.44        -81.338    1   \n",
       "3         39.936         -82.884        39.937        -82.884    1   \n",
       "4         36.389         -80.731        36.389        -80.731    1   \n",
       "\n",
       "      start_date_time  hour  \n",
       "0 2020-10-06 15:39:25    15  \n",
       "1 2020-10-06 11:59:51    11  \n",
       "2 2020-10-06 14:51:03    14  \n",
       "3 2020-10-06 09:54:03     9  \n",
       "4 2020-10-06 09:47:55     9  "
      ]
     },
     "execution_count": 13,
     "metadata": {},
     "output_type": "execute_result"
    }
   ],
   "source": [
    "# Converting column to datetime\n",
    "df2['start_date_time']=pd.to_datetime(df2['start_time'])\n",
    "df2['start_time']=pd.to_datetime(df2['start_date_time']).dt.time\n",
    "# Creating hour column\n",
    "df2['hour']=df2['start_date_time'].apply(lambda x: x.hour)\n",
    "df2.head()"
   ]
  },
  {
   "cell_type": "code",
   "execution_count": 14,
   "metadata": {},
   "outputs": [
    {
     "data": {
      "text/html": [
       "<div>\n",
       "<style scoped>\n",
       "    .dataframe tbody tr th:only-of-type {\n",
       "        vertical-align: middle;\n",
       "    }\n",
       "\n",
       "    .dataframe tbody tr th {\n",
       "        vertical-align: top;\n",
       "    }\n",
       "\n",
       "    .dataframe thead th {\n",
       "        text-align: right;\n",
       "    }\n",
       "</style>\n",
       "<table border=\"1\" class=\"dataframe\">\n",
       "  <thead>\n",
       "    <tr style=\"text-align: right;\">\n",
       "      <th></th>\n",
       "      <th>call_duration_seconds</th>\n",
       "      <th>ord</th>\n",
       "      <th>hour</th>\n",
       "    </tr>\n",
       "  </thead>\n",
       "  <tbody>\n",
       "    <tr>\n",
       "      <th>count</th>\n",
       "      <td>293336.000000</td>\n",
       "      <td>293336.0</td>\n",
       "      <td>293336.000000</td>\n",
       "    </tr>\n",
       "    <tr>\n",
       "      <th>mean</th>\n",
       "      <td>95.515368</td>\n",
       "      <td>1.0</td>\n",
       "      <td>12.446403</td>\n",
       "    </tr>\n",
       "    <tr>\n",
       "      <th>std</th>\n",
       "      <td>664.618163</td>\n",
       "      <td>0.0</td>\n",
       "      <td>3.631581</td>\n",
       "    </tr>\n",
       "    <tr>\n",
       "      <th>min</th>\n",
       "      <td>0.000000</td>\n",
       "      <td>1.0</td>\n",
       "      <td>0.000000</td>\n",
       "    </tr>\n",
       "    <tr>\n",
       "      <th>25%</th>\n",
       "      <td>0.000000</td>\n",
       "      <td>1.0</td>\n",
       "      <td>9.000000</td>\n",
       "    </tr>\n",
       "    <tr>\n",
       "      <th>50%</th>\n",
       "      <td>10.000000</td>\n",
       "      <td>1.0</td>\n",
       "      <td>13.000000</td>\n",
       "    </tr>\n",
       "    <tr>\n",
       "      <th>75%</th>\n",
       "      <td>98.000000</td>\n",
       "      <td>1.0</td>\n",
       "      <td>16.000000</td>\n",
       "    </tr>\n",
       "    <tr>\n",
       "      <th>max</th>\n",
       "      <td>43895.000000</td>\n",
       "      <td>1.0</td>\n",
       "      <td>23.000000</td>\n",
       "    </tr>\n",
       "  </tbody>\n",
       "</table>\n",
       "</div>"
      ],
      "text/plain": [
       "       call_duration_seconds       ord           hour\n",
       "count          293336.000000  293336.0  293336.000000\n",
       "mean               95.515368       1.0      12.446403\n",
       "std               664.618163       0.0       3.631581\n",
       "min                 0.000000       1.0       0.000000\n",
       "25%                 0.000000       1.0       9.000000\n",
       "50%                10.000000       1.0      13.000000\n",
       "75%                98.000000       1.0      16.000000\n",
       "max             43895.000000       1.0      23.000000"
      ]
     },
     "execution_count": 14,
     "metadata": {},
     "output_type": "execute_result"
    }
   ],
   "source": [
    "df.describe()"
   ]
  },
  {
   "cell_type": "markdown",
   "metadata": {},
   "source": [
    "# Analyze amount of calls during hours"
   ]
  },
  {
   "cell_type": "code",
   "execution_count": 15,
   "metadata": {},
   "outputs": [
    {
     "data": {
      "text/plain": [
       "<AxesSubplot:xlabel='hour'>"
      ]
     },
     "execution_count": 15,
     "metadata": {},
     "output_type": "execute_result"
    },
    {
     "data": {
      "image/png": "[encoded data removed]",
      "text/plain": [
       "<Figure size 432x288 with 1 Axes>"
      ]
     },
     "metadata": {
      "needs_background": "light"
     },
     "output_type": "display_data"
    }
   ],
   "source": [
    "df2[['hour', 'good_id']].groupby('hour').count().plot()"
   ]
  },
  {
   "cell_type": "markdown",
   "metadata": {},
   "source": [
    "# Remove 0 duration calls "
   ]
  },
  {
   "cell_type": "code",
   "execution_count": 16,
   "metadata": {},
   "outputs": [
    {
     "data": {
      "text/plain": [
       "<AxesSubplot:xlabel='hour'>"
      ]
     },
     "execution_count": 16,
     "metadata": {},
     "output_type": "execute_result"
    },
    {
     "data": {
      "image/png": "[encoded data removed]",
      "text/plain": [
       "<Figure size 432x288 with 1 Axes>"
      ]
     },
     "metadata": {
      "needs_background": "light"
     },
     "output_type": "display_data"
    }
   ],
   "source": [
    "df_no_zero = df2[df2['call_duration_seconds'].astype(float) > 0]\n",
    "df_no_zero[['hour', 'good_id']].groupby('hour').count().plot()"
   ]
  },
  {
   "cell_type": "markdown",
   "metadata": {},
   "source": [
    "# Analyze histogram of call durations"
   ]
  },
  {
   "cell_type": "code",
   "execution_count": 17,
   "metadata": {},
   "outputs": [
    {
     "data": {
      "image/png": "[encoded data removed]",
      "text/plain": [
       "<Figure size 432x288 with 1 Axes>"
      ]
     },
     "metadata": {
      "needs_background": "light"
     },
     "output_type": "display_data"
    }
   ],
   "source": [
    "df.hist(column='call_duration_seconds', bins=[0,10,25,50,100,200,300,400,500,600,700,800,900,1000,1500]);\n"
   ]
  },
  {
   "cell_type": "markdown",
   "metadata": {},
   "source": [
    "# Analyze histogram no zero calls"
   ]
  },
  {
   "cell_type": "code",
   "execution_count": 18,
   "metadata": {},
   "outputs": [
    {
     "data": {
      "image/png": "[encoded data removed]",
      "text/plain": [
       "<Figure size 432x288 with 1 Axes>"
      ]
     },
     "metadata": {
      "needs_background": "light"
     },
     "output_type": "display_data"
    }
   ],
   "source": [
    "df_no_zero.hist(column='call_duration_seconds', bins=[0,10,25,50,100,200,300,400,500,600,700,800,900,1000,1500]);"
   ]
  },
  {
   "cell_type": "code",
   "execution_count": 19,
   "metadata": {},
   "outputs": [],
   "source": [
    "df.to_csv('../processed-data/data1.csv')"
   ]
  },
  {
   "cell_type": "markdown",
   "metadata": {},
   "source": [
    "## Check moving calls"
   ]
  },
  {
   "cell_type": "code",
   "execution_count": 20,
   "metadata": {},
   "outputs": [],
   "source": [
    "df_moving_calls = df[df['last_latitude']!= 'NA' ]\n",
    "df_moving_calls.to_csv('../processed-data/data1_moving.csv')"
   ]
  },
  {
   "cell_type": "markdown",
   "metadata": {},
   "source": [
    "## Clean 0,0 latitudes and longitudes"
   ]
  },
  {
   "cell_type": "code",
   "execution_count": 21,
   "metadata": {},
   "outputs": [],
   "source": [
    "df_moving_calls = df_moving_calls[df_moving_calls['first_latitude'].astype(float) != 0]\n",
    "#print(df_moving_calls)\n",
    "df_moving_calls.to_csv('../processed-data/data1_moving_clean.csv')"
   ]
  },
  {
   "cell_type": "code",
   "execution_count": 22,
   "metadata": {},
   "outputs": [],
   "source": [
    "#df_moving_calls[df_moving_calls['good_id'] == '7616865064c7a1591608163330']"
   ]
  },
  {
   "cell_type": "code",
   "execution_count": 23,
   "metadata": {},
   "outputs": [
    {
     "data": {
      "image/png": "[encoded data removed]",
      "text/plain": [
       "<Figure size 432x288 with 1 Axes>"
      ]
     },
     "metadata": {
      "needs_background": "light"
     },
     "output_type": "display_data"
    }
   ],
   "source": [
    "df_sample = df.sample(n=10000)\n",
    "df_sample.hist(column='call_duration_seconds', bins=[0,10,25,50,100,200,300,400,500,600,700,800,900,1000,1500]);\n"
   ]
  },
  {
   "cell_type": "code",
   "execution_count": 24,
   "metadata": {},
   "outputs": [],
   "source": [
    "df_sample.to_csv('../processed-data/data1_sample.csv')"
   ]
  },
  {
   "cell_type": "markdown",
   "metadata": {},
   "source": [
    "# Report 1\n",
    "\n",
    "Distribution of calls in North America"
   ]
  },
  {
   "cell_type": "markdown",
   "metadata": {},
   "source": [
    "![title](../reports/data1_calls_location.png)"
   ]
  },
  {
   "cell_type": "markdown",
   "metadata": {},
   "source": [
    "# Report2 \n",
    "\n",
    "Moving Calls that start and end on different latitude and longitude"
   ]
  },
  {
   "cell_type": "markdown",
   "metadata": {},
   "source": [
    "![title](../reports/data1_moving_calls.png)"
   ]
  },
  {
   "cell_type": "markdown",
   "metadata": {},
   "source": [
    "# Report 3\n",
    "\n",
    "Cleaned sites starting or ending at latitude and longitude (0,0)"
   ]
  },
  {
   "cell_type": "markdown",
   "metadata": {},
   "source": [
    "![title](../reports/data1_moving_clean.png)"
   ]
  },
  {
   "cell_type": "markdown",
   "metadata": {},
   "source": [
    "# Report4 \n",
    "\n",
    "HeatMap with moving time window with Sampled data as Kepler was crashing with 300k points of data. Concentrated the graphs in the US to appreciate the heatmap"
   ]
  },
  {
   "cell_type": "markdown",
   "metadata": {},
   "source": [
    "![title](../reports/data1_heatmap.png)"
   ]
  },
  {
   "cell_type": "code",
   "execution_count": null,
   "metadata": {},
   "outputs": [],
   "source": []
  }
 ],
 "metadata": {
  "kernelspec": {
   "display_name": "Python 3",
   "language": "python",
   "name": "python3"
  },
  "language_info": {
   "codemirror_mode": {
    "name": "ipython",
    "version": 3
   },
   "file_extension": ".py",
   "mimetype": "text/x-python",
   "name": "python",
   "nbconvert_exporter": "python",
   "pygments_lexer": "ipython3",
   "version": "3.8.5"
  },
  "widgets": {
   "application/vnd.jupyter.widget-state+json": {
    "state": {
     "3746efc3c69f4e19af22fcb36884d2c7": {
      "model_module": "@jupyter-widgets/base",
      "model_module_version": "1.2.0",
      "model_name": "LayoutModel",
      "state": {}
     }
    },
    "version_major": 2,
    "version_minor": 0
   }
  }
 },
 "nbformat": 4,
 "nbformat_minor": 4
}
